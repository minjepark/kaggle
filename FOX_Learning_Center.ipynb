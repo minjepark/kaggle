{
  "nbformat": 4,
  "nbformat_minor": 0,
  "metadata": {
    "colab": {
      "name": "FOX_Learning_Center.ipynb",
      "provenance": [],
      "collapsed_sections": [],
      "include_colab_link": true
    },
    "kernelspec": {
      "name": "python3",
      "display_name": "Python 3"
    },
    "language_info": {
      "name": "python"
    }
  },
  "cells": [
    {
      "cell_type": "markdown",
      "metadata": {
        "id": "view-in-github",
        "colab_type": "text"
      },
      "source": [
        "<a href=\"https://colab.research.google.com/github/minjepark/kaggle/blob/main/FOX_Learning_Center.ipynb\" target=\"_parent\"><img src=\"https://colab.research.google.com/assets/colab-badge.svg\" alt=\"Open In Colab\"/></a>"
      ]
    },
    {
      "cell_type": "code",
      "source": [
        "#computer Science Technology tree\n",
        "import Computer_Science as CS\n",
        "\n",
        "from FOX_Learning_Center import Warming_up_to_Learn as WL"
      ],
      "metadata": {
        "id": "2mCqMNOu0RXV"
      },
      "execution_count": null,
      "outputs": []
    },
    {
      "cell_type": "code",
      "source": [
        "#Computer Science 적응하기\n",
        "WL.컴퓨터와친해지기.정보와생활()#인터넷세상, 타자연습, 문서만들기, 파일과폴더\n",
        "WL.attend()"
      ],
      "metadata": {
        "id": "YuPfuYng0WNb",
        "colab": {
          "base_uri": "https://localhost:8080/"
        },
        "outputId": "6a3974dd-2fb5-4ae7-8fe5-4bef8c5cdcbd"
      },
      "execution_count": 8,
      "outputs": [
        {
          "output_type": "stream",
          "name": "stdout",
          "text": [
            "박민제\n"
          ]
        }
      ]
    },
    {
      "cell_type": "code",
      "source": [
        "#Computer Science 기초다지기\n",
        "from FOX_Learning_Center import Ready_to_Learn as RL"
      ],
      "metadata": {
        "id": "Eq1hFA7f8LBK"
      },
      "execution_count": null,
      "outputs": []
    },
    {
      "cell_type": "code",
      "source": [
        "RL.컴퓨터의비밀()#컴퓨터뜯어보기, 이진법키링, 디버깅\n",
        "RL.프로그래밍(1)_개념.()#컴퓨터와 컴퓨팅, 알고리즘, 프로그래밍 기초\n",
        "RL.Scratch.()#MIT,창작컴퓨팅, 블록코딩, 신나는 음악만들기, 게임만들기\n",
        "RL.디자인씽킹.()#사고력, 귀납적 추론, 문제해결 \n",
        "RL.attend()"
      ],
      "metadata": {
        "colab": {
          "base_uri": "https://localhost:8080/"
        },
        "id": "887GA-bqBhyL",
        "outputId": "cf758ed6-2c0b-4ab6-f793-5750bf51b5af"
      },
      "execution_count": 9,
      "outputs": [
        {
          "output_type": "stream",
          "name": "stdout",
          "text": [
            "박민제\n"
          ]
        }
      ]
    },
    {
      "cell_type": "code",
      "source": [
        "#Computer Science 활용하기\n",
        "from FOX_Learning_Center import Play_Learn as PL"
      ],
      "metadata": {
        "id": "JpVkFGCWD4N-"
      },
      "execution_count": null,
      "outputs": []
    },
    {
      "cell_type": "code",
      "source": [
        "PL.Scratch.apply()#인공지능과 스크래치, 프로젝트, 생활 속 문제해결하기\n",
        "PL.APP_Inventor()#google&MIT, 안드로이드 소프트웨어 개발, 블록코딩\n",
        "PL.Python()#텍스트 코딩, python 문법\n",
        "PL.attend()"
      ],
      "metadata": {
        "colab": {
          "base_uri": "https://localhost:8080/"
        },
        "id": "vhWsUi4UD2d7",
        "outputId": "705d9824-6c62-4986-9d18-254a0140ae0e"
      },
      "execution_count": 11,
      "outputs": [
        {
          "output_type": "stream",
          "name": "stdout",
          "text": [
            "박민제\n"
          ]
        }
      ]
    },
    {
      "cell_type": "code",
      "source": [
        "#Computer Science 즐기기\n",
        "from FOX_Learning_Center import Creative_Learn as CL"
      ],
      "metadata": {
        "id": "gpL3NxJ0FY0k"
      },
      "execution_count": null,
      "outputs": []
    },
    {
      "cell_type": "code",
      "source": [
        "CL.어플_만들기()#아이디어 구현하기\n",
        "CL.attend()"
      ],
      "metadata": {
        "colab": {
          "base_uri": "https://localhost:8080/"
        },
        "id": "hzMcfzxHFfJe",
        "outputId": "4e4e4d75-686b-4043-9bb2-7a945061d0cf"
      },
      "execution_count": 10,
      "outputs": [
        {
          "output_type": "stream",
          "name": "stdout",
          "text": [
            "박민제\n"
          ]
        }
      ]
    }
  ]
}